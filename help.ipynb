{
 "cells": [
  {
   "cell_type": "code",
   "execution_count": 14,
   "metadata": {},
   "outputs": [],
   "source": [
    "import pandas as pd\n",
    "import os\n",
    "import configparser\n",
    "import itertools\n",
    "import sqlite3\n",
    "import time\n",
    "import random\n",
    "import locale\n",
    "import logging\n",
    "from logging.config import fileConfig\n",
    "import traceback\n",
    "from tools.utils import *"
   ]
  },
  {
   "cell_type": "markdown",
   "metadata": {},
   "source": [
    "# 选择标注数据"
   ]
  },
  {
   "cell_type": "code",
   "execution_count": 62,
   "metadata": {},
   "outputs": [],
   "source": [
    "data = pd.read_excel('data/full_讲题_10000_-1_0301_使用２.4pattern.xlsx')"
   ]
  },
  {
   "cell_type": "code",
   "execution_count": 71,
   "metadata": {},
   "outputs": [],
   "source": [
    "data_p_index = data.段index.unique().tolist()"
   ]
  },
  {
   "cell_type": "code",
   "execution_count": 76,
   "metadata": {},
   "outputs": [],
   "source": [
    "random.seed(2019)\n",
    "final_index = random.sample(data_p_index[1:100], 50) + random.sample(\n",
    "    data_p_index[100:2000], 150) + random.sample(data_p_index[2000:], 100)"
   ]
  },
  {
   "cell_type": "code",
   "execution_count": 80,
   "metadata": {},
   "outputs": [],
   "source": [
    "def get_text(df):\n",
    "    line_list = []\n",
    "    for index,row in df.iterrows():\n",
    "        line = '{}:{}'.format(row['who'],row['text'])\n",
    "        line_list.append(line)\n",
    "    return line_list"
   ]
  },
  {
   "cell_type": "code",
   "execution_count": 87,
   "metadata": {},
   "outputs": [],
   "source": [
    "for index in final_index:\n",
    "    df = data[data.段index==index]\n",
    "    line_list = get_text(df)\n",
    "    output_path = os.path.join(raw_data_dir,'{}.txt'.format(int(index)))\n",
    "    with open(output_path,'w') as f:\n",
    "        f.write('\\n'.join(line_list))"
   ]
  },
  {
   "cell_type": "markdown",
   "metadata": {},
   "source": [
    "# 标注数据准备"
   ]
  },
  {
   "cell_type": "code",
   "execution_count": 85,
   "metadata": {},
   "outputs": [],
   "source": [
    "def save_pairs_2_db():\n",
    "    name_files = os.listdir(raw_data_dir)\n",
    "    name_files = [x.split('.')[0] for x in name_files]\n",
    "    pair_list = list(itertools.combinations(name_files,2))\n",
    "    random.seed(2019)\n",
    "    random.shuffle(pair_list)\n",
    "    if os.path.exists(db_path):\n",
    "        logger.info('Remove old db,path is {}'.format(db_path))\n",
    "        os.remove(db_path)\n",
    "    conn = sqlite3.connect(db_path)\n",
    "    c = conn.cursor()\n",
    "    logger.info('Create table,name is {}'.format(table))\n",
    "\n",
    "    # Create table\n",
    "    c.execute('''CREATE TABLE {}\n",
    "             (id,index_i, index_j,label,state,create_time,label_time,user)'''.\n",
    "          format(table))\n",
    "    logger.info('Write pairs to table {}'.format(table))\n",
    "    for id, pair in enumerate(pair_list):\n",
    "        create_time = getNowTime()\n",
    "        c.execute(\"INSERT INTO pairs VALUES ({},{},{},{},{},'{}','{}','{}')\".format(\n",
    "        id + 1, pair[0], pair[1], -1, wait_state, create_time, '',''))\n",
    "    conn.commit()\n",
    "    conn.close()\n",
    "    logger.info('Finish create table {}'.format(table))"
   ]
  },
  {
   "cell_type": "code",
   "execution_count": 86,
   "metadata": {},
   "outputs": [],
   "source": [
    "save_pairs_2_db()"
   ]
  },
  {
   "cell_type": "code",
   "execution_count": null,
   "metadata": {},
   "outputs": [],
   "source": [
    "%%time\n",
    "test_pair = Pair()\n",
    "test_pair.save(1)"
   ]
  },
  {
   "cell_type": "code",
   "execution_count": null,
   "metadata": {},
   "outputs": [],
   "source": [
    "result = c.execute(\"select * from pairs where state == 0 limit 10\")"
   ]
  },
  {
   "cell_type": "code",
   "execution_count": null,
   "metadata": {},
   "outputs": [],
   "source": [
    "c.execute('UPDATE {} SET label =  WHERE id = {}'.format(table,1,1))\n",
    "result = conn."
   ]
  },
  {
   "cell_type": "code",
   "execution_count": null,
   "metadata": {},
   "outputs": [],
   "source": [
    "# result = c.execute(\"select * from pairs where label= -1 and state==0 limit 10\")\n",
    "result = c.execute('UPDATE {} SET label ={}  WHERE id = {}'.format(table,1,1))\n",
    "result = [dict(x) for x in result]\n",
    "pd.DataFrame(result)"
   ]
  },
  {
   "cell_type": "code",
   "execution_count": 11,
   "metadata": {},
   "outputs": [],
   "source": [
    "# test"
   ]
  },
  {
   "cell_type": "code",
   "execution_count": 12,
   "metadata": {},
   "outputs": [],
   "source": [
    "import dash_html_components as html"
   ]
  },
  {
   "cell_type": "code",
   "execution_count": null,
   "metadata": {},
   "outputs": [],
   "source": []
  }
 ],
 "metadata": {
  "hide_input": false,
  "kernelspec": {
   "display_name": "py3",
   "language": "python",
   "name": "py3"
  },
  "language_info": {
   "codemirror_mode": {
    "name": "ipython",
    "version": 3
   },
   "file_extension": ".py",
   "mimetype": "text/x-python",
   "name": "python",
   "nbconvert_exporter": "python",
   "pygments_lexer": "ipython3",
   "version": "3.6.5"
  },
  "toc": {
   "base_numbering": 1,
   "nav_menu": {},
   "number_sections": true,
   "sideBar": true,
   "skip_h1_title": false,
   "title_cell": "Table of Contents",
   "title_sidebar": "Contents",
   "toc_cell": false,
   "toc_position": {},
   "toc_section_display": true,
   "toc_window_display": true
  }
 },
 "nbformat": 4,
 "nbformat_minor": 2
}
