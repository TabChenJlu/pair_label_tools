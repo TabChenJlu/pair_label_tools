{
 "cells": [
  {
   "cell_type": "code",
   "execution_count": 17,
   "metadata": {},
   "outputs": [],
   "source": [
    "import pandas as pd\n",
    "import os\n",
    "import configparser\n",
    "import itertools\n",
    "import sqlite3\n",
    "import time\n",
    "import random\n",
    "import locale\n",
    "import logging\n",
    "from logging.config import fileConfig\n",
    "import traceback"
   ]
  },
  {
   "cell_type": "code",
   "execution_count": 2,
   "metadata": {},
   "outputs": [],
   "source": [
    "fileConfig('config/logging_config.ini')\n",
    "logger = logging.getLogger()"
   ]
  },
  {
   "cell_type": "code",
   "execution_count": 3,
   "metadata": {},
   "outputs": [
    {
     "data": {
      "text/plain": [
       "['config/system.ini']"
      ]
     },
     "execution_count": 3,
     "metadata": {},
     "output_type": "execute_result"
    }
   ],
   "source": [
    "config = configparser.ConfigParser()\n",
    "config.read('config/system.ini')"
   ]
  },
  {
   "cell_type": "code",
   "execution_count": 4,
   "metadata": {},
   "outputs": [],
   "source": [
    "raw_data_dir = config['path'].get('data_dir')\n",
    "db_path = config['path'].get('db_path')\n",
    "table = config['db'].get('table')\n",
    "wait_state = config['db'].get('wait_state')\n",
    "processing_state = config['db'].get('processing_state')\n",
    "success_state = config['db'].get('success_state')\n",
    "log_path = config['log']['log_path']"
   ]
  },
  {
   "cell_type": "markdown",
   "metadata": {
    "heading_collapsed": true
   },
   "source": [
    "# get raw_data"
   ]
  },
  {
   "cell_type": "code",
   "execution_count": null,
   "metadata": {
    "hidden": true
   },
   "outputs": [],
   "source": [
    "data = pd.read_excel('data/full_讲题_10000_-1_0301.xlsx')"
   ]
  },
  {
   "cell_type": "code",
   "execution_count": null,
   "metadata": {
    "hidden": true
   },
   "outputs": [],
   "source": [
    "def get_text(df):\n",
    "    line_list = []\n",
    "    for index,row in df.iterrows():\n",
    "        line = '**{}** : {}  '.format(row['who'],row['text'])\n",
    "        line_list.append(line)\n",
    "    return line_list"
   ]
  },
  {
   "cell_type": "code",
   "execution_count": null,
   "metadata": {
    "hidden": true
   },
   "outputs": [],
   "source": [
    "for index,group in data.groupby('段index'):\n",
    "    line_list = get_text(group)\n",
    "    output_path = os.path.join(raw_data_dir,'{}.txt'.format(int(index)))\n",
    "    with open(output_path,'w') as f:\n",
    "        f.write('\\n'.join(line_list))"
   ]
  },
  {
   "cell_type": "markdown",
   "metadata": {},
   "source": [
    "# 标注数据准备"
   ]
  },
  {
   "cell_type": "code",
   "execution_count": 6,
   "metadata": {},
   "outputs": [],
   "source": [
    "num_raw_data = len(os.listdir(raw_data_dir))"
   ]
  },
  {
   "cell_type": "code",
   "execution_count": 7,
   "metadata": {},
   "outputs": [],
   "source": [
    "pair_list = list(itertools.combinations(range(num_raw_data),2))\n",
    "random.seed(2019)\n",
    "random.shuffle(pair_list)"
   ]
  },
  {
   "cell_type": "markdown",
   "metadata": {},
   "source": [
    "# sqlite3"
   ]
  },
  {
   "cell_type": "code",
   "execution_count": 8,
   "metadata": {},
   "outputs": [],
   "source": [
    "def loadText(index):\n",
    "    path = os.path.join(raw_data_dir, '{}.txt'.format(int(index)))\n",
    "    return open(path, 'r').read()\n",
    "\n",
    "\n",
    "def getNowTime():\n",
    "    return time.strftime(\"%Y-%m-%d %H:%M:%S\", time.localtime())"
   ]
  },
  {
   "cell_type": "code",
   "execution_count": 9,
   "metadata": {},
   "outputs": [
    {
     "data": {
      "text/plain": [
       "<sqlite3.Cursor at 0x7ff487e46260>"
      ]
     },
     "execution_count": 9,
     "metadata": {},
     "output_type": "execute_result"
    }
   ],
   "source": [
    "if os.path.exists(db_path):\n",
    "    logger.info('Remove old db,path is {}'.format(db_path))\n",
    "    os.remove(db_path)\n",
    "conn = sqlite3.connect(db_path)\n",
    "c = conn.cursor()\n",
    "logger.info('Create table,name is {}'.format(table))\n",
    "# Create table\n",
    "c.execute('''CREATE TABLE {}\n",
    "             (id,index_i, index_j,label,state,create_time,label_time)'''.\n",
    "          format(table))"
   ]
  },
  {
   "cell_type": "code",
   "execution_count": 10,
   "metadata": {},
   "outputs": [],
   "source": [
    "logger.info('Write pairs to table {}'.format(table))\n",
    "for id, pair in enumerate(pair_list):\n",
    "    create_time = getNowTime()\n",
    "    c.execute(\"INSERT INTO pairs VALUES ({},{},{},{},{},'{}','{}')\".format(\n",
    "        id + 1, pair[0], pair[1], -1, wait_state, create_time, ''))\n",
    "conn.commit()\n",
    "conn.close()\n",
    "logger.info('Finish create table {}'.format(table))"
   ]
  },
  {
   "cell_type": "code",
   "execution_count": 11,
   "metadata": {},
   "outputs": [],
   "source": [
    "class myMysql:\n",
    "    def __init__(self, dbhost, dbport, dbname, dbuser, dbpassword):\n",
    "        self.dbhost = dbhost\n",
    "        self.dbport = dbport\n",
    "        self.dbname = dbname\n",
    "        self.dbuser = dbuser\n",
    "        self.dbpassword = dbpassword\n",
    "\n",
    "    def connect(self):\n",
    "        self.connection = pymysql.connect(host=self.dbhost,\n",
    "                                          user=self.dbuser,\n",
    "                                          port=self.dbport,\n",
    "                                          password=self.dbpassword,\n",
    "                                          db=self.dbname,\n",
    "                                          charset='utf8',\n",
    "                                          cursorclass=pymysql.cursors.DictCursor)\n",
    "        self.cursor = self.connection.cursor()\n",
    "        self.connection.autocommit(True)\n",
    "\n",
    "    def insert(self, table_name, data):\n",
    "        self.connect()\n",
    "        items = list(data.keys())\n",
    "        keys = \",\".join(items)\n",
    "        valueList = list(data.values())\n",
    "        values = str(valueList)[1:-1]\n",
    "        sql = \"replace into {} ({}) values ({})\".format(\n",
    "            table_name, keys, values)\n",
    "        self.cursor.execute(sql)\n",
    "        self.close()\n",
    "\n",
    "    def execute(self, sql):\n",
    "        self.connect()\n",
    "        self.cursor.execute(sql)\n",
    "        result = self.cursor.fetchall()\n",
    "        self.close()\n",
    "        return result\n",
    "\n",
    "    def close(self):\n",
    "        self.connection.close()"
   ]
  },
  {
   "cell_type": "code",
   "execution_count": 18,
   "metadata": {},
   "outputs": [],
   "source": [
    "class database():\n",
    "    def __init__(self):\n",
    "        pass\n",
    "    def connect(self):\n",
    "        self.conn = sqlite3.connect(db_path)\n",
    "        self.conn.row_factory = sqlite3.Row\n",
    "        self.cursor = self.conn.cursor()\n",
    "    def execute(self, sql):\n",
    "        self.connect()\n",
    "        try:\n",
    "            self.cursor.execute(sql)\n",
    "            self.conn.commit()\n",
    "            result = self.cursor.fetchall()\n",
    "            result = [dict(x) for x in result]\n",
    "            self.conn.close()\n",
    "        except:\n",
    "            logger.Error('Write to db fail,detail is {}'.format(traceback.format_exc()))\n",
    "        finally:\n",
    "            self.conn.close()\n",
    "        return result"
   ]
  },
  {
   "cell_type": "code",
   "execution_count": 19,
   "metadata": {},
   "outputs": [],
   "source": [
    "class Pair():\n",
    "    def __init__(self):\n",
    "        self.state = True\n",
    "        sql = \"select * from pairs where state==0 limit 1\"\n",
    "        self.result = self.execute(sql)\n",
    "        if len(self.result) == 0:\n",
    "            self.state = False\n",
    "            logger.info('All data have been labeled ~~')\n",
    "        if self.state:\n",
    "            logger.info('Start select one pair')\n",
    "            self.result = self.result[0]\n",
    "            self.i = self.result['index_i']\n",
    "            self.j = self.result['index_j']\n",
    "            self.id = self.result['id']\n",
    "            sql = 'UPDATE {} SET state = {} WHERE id = {}'.format(\n",
    "                table, processing_state, self.id)\n",
    "            self.execute(sql)\n",
    "            logger.info('Pair info i={},j={},id={}'.format(\n",
    "                self.i, self.j, self.id))\n",
    "\n",
    "    def execute(self, sql):\n",
    "        db = database()\n",
    "        result = db.execute(sql)\n",
    "        return result\n",
    "\n",
    "    def save(self, label):\n",
    "        logger.info('Save result,id = {},label = {}'.format(self.id, label))\n",
    "        sql = 'UPDATE {} SET label = {},state = {},label_time = \"{}\" WHERE id = {}'.format(\n",
    "            table, label, success_state, getNowTime(), self.id)\n",
    "        self.execute(sql)\n",
    "\n",
    "    def relase(self):\n",
    "        logger.info('Relase pair(id = {})'.format(self.id))\n",
    "        sql = 'UPDATE {} SET state = {} WHERE id = {}'.format(\n",
    "            table, wait_state, self.id)\n",
    "        self.execute(sql)\n",
    "\n",
    "    def get_index(self):\n",
    "        return self.i, self.j\n",
    "\n",
    "    def get_text(self):\n",
    "        return loadText(self.i), loadText(self.j)"
   ]
  },
  {
   "cell_type": "markdown",
   "metadata": {},
   "source": [
    "state\n",
    "- 0 未标注 \n",
    "- 1 正在标注\n",
    "- 2 标注完成"
   ]
  },
  {
   "cell_type": "code",
   "execution_count": 16,
   "metadata": {},
   "outputs": [
    {
     "name": "stdout",
     "output_type": "stream",
     "text": [
      "CPU times: user 9.39 ms, sys: 368 µs, total: 9.76 ms\n",
      "Wall time: 191 ms\n"
     ]
    }
   ],
   "source": [
    "%%time\n",
    "test_pair = Pair()\n",
    "test_pair.save(1)"
   ]
  },
  {
   "cell_type": "code",
   "execution_count": null,
   "metadata": {},
   "outputs": [],
   "source": [
    "result = c.execute(\"select * from pairs where state == 0 limit 10\")"
   ]
  },
  {
   "cell_type": "code",
   "execution_count": null,
   "metadata": {},
   "outputs": [],
   "source": [
    "c.execute('UPDATE {} SET label =  WHERE id = {}'.format(table,1,1))\n",
    "result = conn."
   ]
  },
  {
   "cell_type": "code",
   "execution_count": null,
   "metadata": {},
   "outputs": [],
   "source": [
    "# result = c.execute(\"select * from pairs where label= -1 and state==0 limit 10\")\n",
    "result = c.execute('UPDATE {} SET label ={}  WHERE id = {}'.format(table,1,1))\n",
    "result = [dict(x) for x in result]\n",
    "pd.DataFrame(result)"
   ]
  },
  {
   "cell_type": "code",
   "execution_count": null,
   "metadata": {},
   "outputs": [],
   "source": [
    "result"
   ]
  },
  {
   "cell_type": "code",
   "execution_count": null,
   "metadata": {},
   "outputs": [],
   "source": []
  }
 ],
 "metadata": {
  "hide_input": false,
  "kernelspec": {
   "display_name": "py3",
   "language": "python",
   "name": "py3"
  },
  "language_info": {
   "codemirror_mode": {
    "name": "ipython",
    "version": 3
   },
   "file_extension": ".py",
   "mimetype": "text/x-python",
   "name": "python",
   "nbconvert_exporter": "python",
   "pygments_lexer": "ipython3",
   "version": "3.6.5"
  },
  "toc": {
   "base_numbering": 1,
   "nav_menu": {},
   "number_sections": true,
   "sideBar": true,
   "skip_h1_title": false,
   "title_cell": "Table of Contents",
   "title_sidebar": "Contents",
   "toc_cell": false,
   "toc_position": {},
   "toc_section_display": true,
   "toc_window_display": true
  }
 },
 "nbformat": 4,
 "nbformat_minor": 2
}
